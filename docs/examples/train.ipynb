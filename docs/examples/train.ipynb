{
 "cells": [
  {
   "cell_type": "markdown",
   "id": "59c0a1eb",
   "metadata": {},
   "source": [
    "# Nengo Edge API Example\n",
    "\n",
    "This notebook contains a sample of calling the Nengo Edge API with an access token.\n",
    "\n",
    "To use it, you need to set your client ID in environment variable\n",
    "`NENGO_EDGE_API_CLIENT_ID`"
   ]
  },
  {
   "cell_type": "code",
   "execution_count": null,
   "id": "5016ed90",
   "metadata": {},
   "outputs": [],
   "source": [
    "# Optional to load environment variables from .env file\n",
    "from dotenv import load_dotenv\n",
    "\n",
    "load_dotenv()"
   ]
  },
  {
   "cell_type": "code",
   "execution_count": null,
   "id": "2ae1450e",
   "metadata": {},
   "outputs": [],
   "source": [
    "from nengo_edge import api"
   ]
  },
  {
   "cell_type": "markdown",
   "id": "4fe1739e",
   "metadata": {},
   "source": [
    "## Get Access Token\n",
    "The access token is valid for 24 hours. It will take a few seconds after you click\n",
    "confirm in your browser for the token to be returned."
   ]
  },
  {
   "cell_type": "code",
   "execution_count": null,
   "id": "10a306e3",
   "metadata": {},
   "outputs": [],
   "source": [
    "token_client = api.NengoEdgeTokenClient()"
   ]
  },
  {
   "cell_type": "code",
   "execution_count": null,
   "id": "0ce181ad",
   "metadata": {},
   "outputs": [],
   "source": [
    "token = token_client.get_token()\n",
    "client = api.NengoEdgeClient(token)"
   ]
  },
  {
   "cell_type": "code",
   "execution_count": null,
   "id": "ccf78422",
   "metadata": {},
   "outputs": [],
   "source": [
    "projects = client.get_projects()\n",
    "example_project = [\n",
    "    project for project in projects if project[\"name\"] == \"Example project\"\n",
    "][0]"
   ]
  },
  {
   "cell_type": "code",
   "execution_count": null,
   "id": "d2c97a65",
   "metadata": {},
   "outputs": [],
   "source": [
    "datasets = client.get_datasets(\"KWS\")\n",
    "print(datasets)"
   ]
  },
  {
   "cell_type": "code",
   "execution_count": null,
   "id": "7eebdf04",
   "metadata": {},
   "outputs": [],
   "source": [
    "networks = client.get_networks(\"KWS\")\n",
    "print(networks)"
   ]
  },
  {
   "cell_type": "code",
   "execution_count": null,
   "id": "3cdc63a7",
   "metadata": {},
   "outputs": [],
   "source": [
    "run_id = client.start_training_run(\n",
    "    example_project[\"_id\"],\n",
    "    \"KWS\",\n",
    "    {\"batchSize\": 2, \"steps\": 10},\n",
    "    dataset=datasets[0][\"_id\"],\n",
    "    network=networks[0][\"_id\"],\n",
    ")\n",
    "print(run_id)"
   ]
  },
  {
   "cell_type": "code",
   "execution_count": null,
   "id": "347c7121",
   "metadata": {},
   "outputs": [],
   "source": [
    "client.get_results(run_id)"
   ]
  }
 ],
 "metadata": {
  "language_info": {
   "name": "python",
   "pygments_lexer": "ipython3"
  }
 },
 "nbformat": 4,
 "nbformat_minor": 5
}
