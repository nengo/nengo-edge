{
 "cells": [
  {
   "cell_type": "markdown",
   "id": "59c0a1eb",
   "metadata": {},
   "source": [
    "# Nengo Edge API Example\n",
    "\n",
    "This notebook contains a sample of calling the Nengo Edge API with an access token.\n",
    "\n",
    "To use it, you need to set your client ID in environment variable\n",
    "`NENGO_EDGE_API_CLIENT_ID`"
   ]
  },
  {
   "cell_type": "code",
   "execution_count": null,
   "id": "5016ed90",
   "metadata": {},
   "outputs": [],
   "source": [
    "# Optional to load environment variables from .env file\n",
    "from dotenv import load_dotenv\n",
    "\n",
    "load_dotenv()"
   ]
  },
  {
   "cell_type": "code",
   "execution_count": null,
   "id": "2ae1450e",
   "metadata": {},
   "outputs": [],
   "source": [
    "from nengo_edge import api"
   ]
  },
  {
   "cell_type": "markdown",
   "id": "4fe1739e",
   "metadata": {},
   "source": [
    "## Get Access Token\n",
    "The access token is valid for 24 hours. It will take a few seconds after you click\n",
    "confirm in your browser for the token to be returned."
   ]
  },
  {
   "cell_type": "code",
   "execution_count": null,
   "id": "10a306e3",
   "metadata": {},
   "outputs": [],
   "source": [
    "token_client = api.NengoEdgeTokenClient()\n",
    "token = await token_client.get_token()"
   ]
  },
  {
   "cell_type": "code",
   "execution_count": null,
   "id": "0ce181ad",
   "metadata": {},
   "outputs": [],
   "source": [
    "client = api.NengoEdgeClient(token)"
   ]
  },
  {
   "cell_type": "code",
   "execution_count": null,
   "id": "ccf78422",
   "metadata": {},
   "outputs": [],
   "source": [
    "projects = await client.get_projects()\n",
    "example_project = [\n",
    "    project for project in projects if project[\"name\"] == \"Example project\"\n",
    "][0]\n",
    "run_id = await client.start_training_run(\n",
    "    example_project[\"_id\"], \"KWS\", {\"batchSize\": 2, \"steps\": 10}\n",
    ")\n",
    "print(run_id)"
   ]
  },
  {
   "cell_type": "code",
   "execution_count": null,
   "id": "347c7121",
   "metadata": {},
   "outputs": [],
   "source": [
    "await client.get_results(run_id)"
   ]
  },
  {
   "cell_type": "code",
   "execution_count": null,
   "id": "91fd4b5e",
   "metadata": {},
   "outputs": [],
   "source": [
    "# A run in error status\n",
    "await client.get_results(\"66315581758bc9bdbaa63d5f\")"
   ]
  },
  {
   "cell_type": "code",
   "execution_count": null,
   "id": "b7f1efb1",
   "metadata": {},
   "outputs": [],
   "source": [
    "# A completed ASR run\n",
    "await client.get_results(\"65e8bfa826c1057c10a6f6a2\")"
   ]
  }
 ],
 "metadata": {
  "language_info": {
   "name": "python",
   "pygments_lexer": "ipython3"
  }
 },
 "nbformat": 4,
 "nbformat_minor": 5
}
